{
  "nbformat": 4,
  "nbformat_minor": 0,
  "metadata": {
    "colab": {
      "name": "Untitled0.ipynb",
      "provenance": [],
      "authorship_tag": "ABX9TyOczg6tz2vs15PHtE/nCbDp",
      "include_colab_link": true
    },
    "kernelspec": {
      "name": "python3",
      "display_name": "Python 3"
    },
    "language_info": {
      "name": "python"
    }
  },
  "cells": [
    {
      "cell_type": "markdown",
      "metadata": {
        "id": "view-in-github",
        "colab_type": "text"
      },
      "source": [
        "<a href=\"https://colab.research.google.com/github/sonomarina/Stock-sentiment-analysis/blob/main/F%26M_EX1_Model1.ipynb\" target=\"_parent\"><img src=\"https://colab.research.google.com/assets/colab-badge.svg\" alt=\"Open In Colab\"/></a>"
      ]
    },
    {
      "cell_type": "markdown",
      "metadata": {
        "id": "q82WOVKGRYIG"
      },
      "source": [
        "Imports from the functions given to us "
      ]
    },
    {
      "cell_type": "code",
      "metadata": {
        "id": "V5jqd1jORWNR"
      },
      "source": [
        "\n",
        "import helpFunctions as hf\n",
        "import matplotlib.pyplot as plt\n",
        "import numpy as np\n",
        "import imageio\n"
      ],
      "execution_count": null,
      "outputs": []
    },
    {
      "cell_type": "markdown",
      "metadata": {
        "id": "gFjvVPSdR0iT"
      },
      "source": [
        "Day one multispectracl image"
      ]
    },
    {
      "cell_type": "code",
      "metadata": {
        "id": "bQ1TQ4KCR4rd"
      },
      "source": [
        "\n",
        "multiIm, annotationIm = hf.loadMulti('multispectral_day01.mat' ,\\\n",
        "'annotation_day01.png', dirIn)\n",
        "\n",
        "\n"
      ],
      "execution_count": null,
      "outputs": []
    },
    {
      "cell_type": "markdown",
      "metadata": {
        "id": "Sp2Ki9gVR-cs"
      },
      "source": [
        "EXTRACT PIXELS RELATED TO FAT AND MEAT"
      ]
    },
    {
      "cell_type": "code",
      "metadata": {
        "id": "W6gDCf4UR-tr"
      },
      "source": [
        "[fatPix, fatR, fatC] = hf.getPix(multiIm, annotationIm[:,:,1]);\n",
        "[meatPix, meatR, meatC] = hf.getPix(multiIm, annotationIm[:,:,2]);"
      ],
      "execution_count": null,
      "outputs": []
    },
    {
      "cell_type": "markdown",
      "metadata": {
        "id": "KFa9USUPSDV7"
      },
      "source": [
        "Normal distribution PDF "
      ]
    },
    {
      "cell_type": "code",
      "metadata": {
        "id": "wpYtCLd7SDfg"
      },
      "source": [
        "\n",
        "def pdf(x, mean, var):\n",
        "    return 1/np.sqrt(var)/np.sqrt(2*np.pi)*np.exp(-(x-mean)**2/2/var)\n",
        "# OBSERVATIONS\n",
        "x = np.linspace(0, 100, 1000)\n",
        "# THRESHOLDS FOR ALL SPECTRAL BANDS\n",
        "cutoffs = np.zeros(19)\n",
        "meatMean = np.mean(meatPix,0)\n",
        "fatMean = np.mean(fatPix,0)\n",
        "for i in range(0, 19):\n",
        "# COMMON VARIANCE\n",
        "    var = ((len(meatPix[:,i]) - 1)*np.var(meatPix[:,i]) + (len(fatPix[:,i]) - \\1)*np.var(fatPix[:,i]))/(len(meatPix[:,i]) + len(fatPix[:,i]) - 2) \n",
        "  f_meat = pdf(x, meatMean[i], var)\n",
        "  f_fat = pdf(x, fatMean[i], var)\n",
        "  xmax = x[f_fat - f_meat >= 0]\n",
        "  cutoffs[i] = xmax[0]"
      ],
      "execution_count": null,
      "outputs": []
    },
    {
      "cell_type": "code",
      "metadata": {
        "id": "_IIvRcqxnST6"
      },
      "source": [
        "# IDENTIFIED CLASSIFICATIONS VS KNOWN CLASSIFICATIONS\n",
        "rate = np.zeros(19)\n",
        "for i in range(0, 19):\n",
        "meat_rate = fatPix[:,i] - cutoffs[i]\n",
        "fat_rate = cutoffs[i] - meatPix[:,i]\n",
        "rate[i] = len(meat_rate[meat_rate > 0]) + len(fat_rate[fat_rate > 0])\n",
        "# BAND WITH THE MOST CORRECT CLASSIFICATIONS\n",
        "bandNr = np.where(rate == max(rate)) # BAND NR. 14 and 15 (863 nm AND 880 nm)\n",
        "# CLASSIFY BASED ON BAND 14 FOR VISUALISATION\n",
        "threshold = cutoffs[13]\n",
        "multiIm[multiIm < threshold] = 0\n",
        "multiIm[multiIm >= threshold] = 1\n",
        "# MASK FOR VISUALISATION\n",
        "mask = annotationIm[:,:,1]\n",
        "mask[multiIm[:,:,13] == 0] = False # USE BAND 13 DATA FOR THE MASK\n",
        "mask[multiIm[:,:,13] == 1] = True\n",
        "bPix = np.where(np.logical_and(annotationIm[:,:,0] == 0, \\\n",
        "annotationIm[:,:,1] == 0, annotationIm[:,:,2] == 0))\n",
        "mask[bPix] = 0\n",
        "# CLASSIFIED IMAGE PLOT\n",
        "[fatPix, fatR, fatC] = hf.getPix(multiIm, mask)\n",
        "pixId = np.stack((fatR, fatC), axis=1)\n",
        "imRGB = imageio.imread(dirIn + 'color_day01.png')\n",
        "rgbOut = hf.setImagePix(imRGB, pixId)\n",
        "plt.imshow(rgbOut)\n",
        "plt.title('Classified image of the salami on day 1')\n",
        "plt.xlim(0,514)\n",
        "plt.ylim(514,0)\n",
        "plt.savefig('salami_day1_model_1', dpi = 300)\n",
        "plt.show()"
      ],
      "execution_count": null,
      "outputs": []
    }
  ]
}